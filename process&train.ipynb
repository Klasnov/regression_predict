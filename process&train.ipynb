{
 "cells": [
  {
   "cell_type": "markdown",
   "metadata": {},
   "source": [
    "# Load Data"
   ]
  },
  {
   "cell_type": "code",
   "execution_count": 21,
   "metadata": {},
   "outputs": [],
   "source": [
    "import pandas as pd\n",
    "\n",
    "\n",
    "# Load the data\n",
    "df = pd.read_csv(\"data/train.csv\")"
   ]
  },
  {
   "cell_type": "markdown",
   "metadata": {},
   "source": [
    "# Data Preprocessing from Ryan"
   ]
  },
  {
   "cell_type": "code",
   "execution_count": 18,
   "metadata": {},
   "outputs": [],
   "source": [
    "# Load the data\n",
    "df = pd.read_csv(\"data/train.csv\")\n",
    "\n",
    "# Removing redundant features\n",
    "df = df.drop(columns=[\"indicative_price\", \"eco_category\"])\n",
    "df.head()\n",
    "\n",
    "# Fill the empty `make` feature\n",
    "df[\"f_make\"] = df[\"make\"].fillna(df[\"title\"].str.lower().str.split(\" \").str[0])\n",
    "df[\"make\"] = df[\"make\"].fillna(df[\"f_make\"])\n",
    "df = df.drop(columns=[\"f_make\"])\n",
    "\n",
    "# Convert the register features into numerical values\n",
    "df[\"reg_date\"] = pd.to_datetime(df[\"reg_date\"], format=\"%d-%b-%Y\")\n",
    "df[\"original_reg_date\"] = pd.to_datetime(df[\"original_reg_date\"], format=\"%d-%b-%Y\")\n",
    "now_time = pd.Timestamp(\"2024-11-01\")\n",
    "df[\"reg_age\"] = (now_time - df[\"reg_date\"]).dt.days\n",
    "df[\"original_reg_age\"] = (now_time - df[\"original_reg_date\"]).dt.days\n",
    "df[\"original_reg_age\"] = df[\"original_reg_age\"].fillna(df[\"reg_age\"])\n",
    "df.drop(columns=[\"reg_age\"])\n",
    "df = df.rename(columns={\"original_reg_age\": \"reg_age\"})\n",
    "\n",
    "# Fill the empty `manufactured` feature\n",
    "df.loc[df[\"category\"].str.contains(\"parf car\"), \"manufactured\"] = df.loc[\n",
    "    df[\"category\"].str.contains(\"parf car\"), \"manufactured\"\n",
    "].fillna(df[\"reg_date\"].dt.year)\n",
    "\n",
    "df.loc[df[\"manufactured\"].isna(), \"manufactured\"] = (\n",
    "    df.loc[df[\"manufactured\"].isna(), \"manufactured\"]\n",
    "    .fillna(df[\"original_reg_date\"].dt.year)\n",
    "    .fillna(df[\"reg_date\"].dt.year)\n",
    ")\n",
    "df = df.drop(columns=[\"reg_date\", \"original_reg_date\"])\n"
   ]
  },
  {
   "cell_type": "markdown",
   "metadata": {},
   "source": [
    "# Data Preprocessing from Riley"
   ]
  },
  {
   "cell_type": "code",
   "execution_count": 19,
   "metadata": {},
   "outputs": [
    {
     "name": "stdout",
     "output_type": "stream",
     "text": [
      "<class 'pandas.core.frame.DataFrame'>\n",
      "RangeIndex: 25000 entries, 0 to 24999\n",
      "Data columns (total 23 columns):\n",
      " #   Column           Non-Null Count  Dtype  \n",
      "---  ------           --------------  -----  \n",
      " 0   title            25000 non-null  object \n",
      " 1   make             25000 non-null  object \n",
      " 2   model            25000 non-null  object \n",
      " 3   manufactured     25000 non-null  float64\n",
      " 4   type_of_vehicle  25000 non-null  object \n",
      " 5   category         25000 non-null  object \n",
      " 6   transmission     25000 non-null  object \n",
      " 7   curb_weight      24693 non-null  float64\n",
      " 8   power            22360 non-null  float64\n",
      " 9   fuel_type        5879 non-null   object \n",
      " 10  engine_cap       24404 non-null  float64\n",
      " 11  no_of_owners     24982 non-null  float64\n",
      " 12  depreciation     24493 non-null  float64\n",
      " 13  coe              25000 non-null  int64  \n",
      " 14  road_tax         22368 non-null  float64\n",
      " 15  dereg_value      24780 non-null  float64\n",
      " 16  omv              24936 non-null  float64\n",
      " 17  arf              24826 non-null  float64\n",
      " 18  features         24157 non-null  object \n",
      " 19  accessories      21187 non-null  object \n",
      " 20  price            25000 non-null  float64\n",
      " 21  reg_age          25000 non-null  int64  \n",
      " 22  reg_age          25000 non-null  float64\n",
      "dtypes: float64(12), int64(2), object(9)\n",
      "memory usage: 4.4+ MB\n"
     ]
    }
   ],
   "source": [
    "df_me = df.copy()\n",
    "df_me = df_me.drop(columns=[\"listing_id\", \"description\", \"mileage\", \"opc_scheme\", \"lifespan\"])\n",
    "\n",
    "df_me.info()"
   ]
  },
  {
   "cell_type": "code",
   "execution_count": null,
   "metadata": {},
   "outputs": [],
   "source": []
  }
 ],
 "metadata": {
  "kernelspec": {
   "display_name": "cs5228",
   "language": "python",
   "name": "python3"
  },
  "language_info": {
   "codemirror_mode": {
    "name": "ipython",
    "version": 3
   },
   "file_extension": ".py",
   "mimetype": "text/x-python",
   "name": "python",
   "nbconvert_exporter": "python",
   "pygments_lexer": "ipython3",
   "version": "3.12.5"
  }
 },
 "nbformat": 4,
 "nbformat_minor": 2
}
