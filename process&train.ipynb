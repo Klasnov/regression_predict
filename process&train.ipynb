{
 "cells": [
  {
   "cell_type": "markdown",
   "metadata": {},
   "source": [
    "# Data Preprocessing\n",
    "\n",
    "## 1. Load in the dataset and remove unnecessary columns"
   ]
  },
  {
   "cell_type": "code",
   "execution_count": 1,
   "metadata": {},
   "outputs": [],
   "source": [
    "import pandas as pd\n",
    "\n",
    "\n",
    "def load_data(path):\n",
    "    df = pd.read_csv(path)\n",
    "    df.drop([\"listing_id\", \"indicative_price\", \"eco_category\"], axis=1, inplace=True)\n",
    "    return df\n",
    "\n",
    "\n",
    "df_train = load_data(\"data/train.csv\")\n",
    "df_test = load_data(\"data/test.csv\")"
   ]
  },
  {
   "cell_type": "markdown",
   "metadata": {},
   "source": [
    "**Discription:**\n",
    "\n",
    "In the loading process, we will load the dataset and remove the unnecessary columns. The unnecessary columns are the columns that are not useful for the model. For example, the columns that contain the same value for all the rows, the columns that contain the unique value for all the rows, etc."
   ]
  },
  {
   "cell_type": "markdown",
   "metadata": {},
   "source": [
    "## 2. Fill the missing \"make\" values"
   ]
  },
  {
   "cell_type": "code",
   "execution_count": 2,
   "metadata": {},
   "outputs": [],
   "source": [
    "def fill_make(df):\n",
    "    missing_make = df[\"make\"].isnull()\n",
    "\n",
    "    make_list = df[\"make\"].unique()\n",
    "    make_list = [str(make) for make in make_list]\n",
    "    \n",
    "    def extract_make(title):\n",
    "        potential_make = title.split(\" \")[0].lower()\n",
    "        make = None\n",
    "        for item in make_list:\n",
    "            if potential_make in item:\n",
    "                make = item\n",
    "                break\n",
    "        return make\n",
    "    \n",
    "    df.loc[missing_make, \"make\"] = df.loc[missing_make, \"title\"].apply(extract_make)\n",
    "\n",
    "    return df\n",
    "\n",
    "df_train = fill_make(df_train)\n",
    "df_test = fill_make(df_test)"
   ]
  },
  {
   "cell_type": "markdown",
   "metadata": {},
   "source": [
    "**Discription:**\n",
    "\n",
    "To fill the missing \"make\" values, we first observe that the first one or two words in the \"title\" column are the \"make\" values. So, we first get all the unique not missing \"make\" values in the dataset. Then, we get the first word in the \"title\" column with the rows that have missing \"make\" values. Then we compare the first word with the unique \"make\" values, check if it's the substring of the unique \"make\" values, and fill the missing \"make\" values with the unique \"make\" values."
   ]
  },
  {
   "cell_type": "code",
   "execution_count": null,
   "metadata": {},
   "outputs": [],
   "source": []
  }
 ],
 "metadata": {
  "kernelspec": {
   "display_name": "cs5228",
   "language": "python",
   "name": "python3"
  },
  "language_info": {
   "codemirror_mode": {
    "name": "ipython",
    "version": 3
   },
   "file_extension": ".py",
   "mimetype": "text/x-python",
   "name": "python",
   "nbconvert_exporter": "python",
   "pygments_lexer": "ipython3",
   "version": "3.12.5"
  }
 },
 "nbformat": 4,
 "nbformat_minor": 2
}
