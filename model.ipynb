{
 "cells": [
  {
   "cell_type": "markdown",
   "metadata": {},
   "source": [
    "# 0. Rough Data Process"
   ]
  },
  {
   "cell_type": "code",
   "execution_count": null,
   "metadata": {},
   "outputs": [],
   "source": [
    "import pandas as pd\n",
    "import numpy as np\n",
    "from sklearn.preprocessing import LabelEncoder\n",
    "\n",
    "\n",
    "# Load the dataset from the relative path\n",
    "data = pd.read_csv(\"data/train.csv\")\n",
    "\n",
    "# Handle missing values for numerical columns by filling them with the median\n",
    "numerical_cols = data.select_dtypes(include=[np.number]).columns.tolist()\n",
    "for col in numerical_cols:\n",
    "    median_value = data[col].median()\n",
    "    data[col].fillna(median_value, inplace=True)\n",
    "\n",
    "# Handle missing values for categorical columns by filling them with the mode\n",
    "categorical_cols = data.select_dtypes(include=[\"object\"]).columns.tolist()\n",
    "for col in categorical_cols:\n",
    "    mode_value = data[col].mode()[0]\n",
    "    data[col].fillna(mode_value, inplace=True)\n",
    "\n",
    "# Convert date columns to datetime objects\n",
    "date_cols = [\"original_reg_date\", \"reg_date\", \"lifespan\"]\n",
    "for col in date_cols:\n",
    "    data[col] = pd.to_datetime(data[col], errors=\"coerce\")\n",
    "\n",
    "# Handle any remaining missing values in date columns by filling with a default date\n",
    "default_date = pd.Timestamp(\"1900-01-01\")\n",
    "data[date_cols] = data[date_cols].fillna(default_date)\n",
    "\n",
    "# Encode categorical variables using Label Encoding\n",
    "label_encoder = LabelEncoder()\n",
    "for col in categorical_cols:\n",
    "    data[col] = label_encoder.fit_transform(data[col])\n",
    "\n",
    "# Save the processed data to a new CSV file\n",
    "data.to_csv(\"data/rough_processed.csv\", index=False)\n",
    "print(\"\\nProcessed data saved to 'data/rough_processed.csv'\")"
   ]
  },
  {
   "cell_type": "markdown",
   "metadata": {},
   "source": [
    "# 1. Linear Regression"
   ]
  },
  {
   "cell_type": "markdown",
   "metadata": {},
   "source": [
    "## 1.1 Ridge Regression"
   ]
  },
  {
   "cell_type": "code",
   "execution_count": 11,
   "metadata": {},
   "outputs": [
    {
     "name": "stdout",
     "output_type": "stream",
     "text": [
      "Ridge Regression with alpha=0.1\n",
      " - Validation RMSE: 44444.84984507896\n",
      "\n",
      "Ridge Regression with alpha=0.5\n",
      " - Validation RMSE: 44444.29648157189\n",
      "\n",
      "Ridge Regression with alpha=1.0\n",
      " - Validation RMSE: 44443.607248066626\n",
      "\n",
      "Ridge Regression with alpha=1.5\n",
      " - Validation RMSE: 44442.920746978\n",
      "\n",
      "Ridge Regression with alpha=2.0\n",
      " - Validation RMSE: 44442.23696446152\n",
      "\n",
      "Ridge Regression with alpha=5.0\n",
      " - Validation RMSE: 44438.19059563258\n"
     ]
    }
   ],
   "source": [
    "import pandas as pd\n",
    "from sklearn.pipeline import Pipeline\n",
    "from sklearn.linear_model import Ridge\n",
    "from sklearn.compose import ColumnTransformer\n",
    "from sklearn.preprocessing import StandardScaler\n",
    "from sklearn.metrics import root_mean_squared_error\n",
    "from sklearn.model_selection import train_test_split\n",
    "\n",
    "\n",
    "data = pd.read_csv(\"data/rough_processed.csv\")\n",
    "\n",
    "X = data.drop(\"price\", axis=1)\n",
    "X = X.drop(\"indicative_price\", axis=1)\n",
    "y = data[\"price\"]\n",
    "\n",
    "numerical_columns = [col for col in X.columns if col != \"listing_id\"]\n",
    "\n",
    "preprocessor = ColumnTransformer(\n",
    "transformers=[\n",
    "    (\"num\", StandardScaler(), numerical_columns),\n",
    "])\n",
    "\n",
    "X_train, X_valid, y_train, y_valid = train_test_split(X, y, test_size=0.1, random_state=0)\n",
    "\n",
    "for alpha in [0.1, 0.5, 1.0, 1.5, 2.0, 5.0]:\n",
    "    gb_reg = Pipeline(steps=[\n",
    "        (\"preprocessor\", preprocessor),\n",
    "        (\"model\", Ridge(alpha=alpha))\n",
    "    ])\n",
    "\n",
    "    gb_reg.fit(X_train, y_train)\n",
    "\n",
    "    y_pred_valid = gb_reg.predict(X_valid)\n",
    "    valid_rmse = root_mean_squared_error(y_valid, y_pred_valid)\n",
    "\n",
    "    print(f\"Ridge Regression with alpha={alpha}\")\n",
    "    print(f\" - Validation RMSE: {valid_rmse}\")\n",
    "    if alpha != 5.0:\n",
    "        print()"
   ]
  },
  {
   "cell_type": "markdown",
   "metadata": {},
   "source": [
    "## 1.2 Lasso Regression"
   ]
  },
  {
   "cell_type": "code",
   "execution_count": 12,
   "metadata": {},
   "outputs": [
    {
     "name": "stdout",
     "output_type": "stream",
     "text": [
      "Lasso Regression with alpha=0.1\n",
      " - Validation RMSE: 44444.87806403614\n",
      "\n",
      "Lasso Regression with alpha=0.5\n",
      " - Validation RMSE: 44444.43679305127\n",
      "\n",
      "Lasso Regression with alpha=1.0\n",
      " - Validation RMSE: 44443.88617189834\n",
      "\n",
      "Lasso Regression with alpha=1.5\n",
      " - Validation RMSE: 44443.336834182104\n",
      "\n",
      "Lasso Regression with alpha=2.0\n",
      " - Validation RMSE: 44442.789811524046\n",
      "\n",
      "Lasso Regression with alpha=5.0\n",
      " - Validation RMSE: 44439.5246486033\n"
     ]
    }
   ],
   "source": [
    "import pandas as pd\n",
    "from sklearn.pipeline import Pipeline\n",
    "from sklearn.linear_model import Lasso\n",
    "from sklearn.compose import ColumnTransformer\n",
    "from sklearn.preprocessing import StandardScaler\n",
    "from sklearn.metrics import root_mean_squared_error\n",
    "from sklearn.model_selection import train_test_split\n",
    "\n",
    "\n",
    "data = pd.read_csv(\"data/rough_processed.csv\")\n",
    "\n",
    "X = data.drop(\"price\", axis=1)\n",
    "X = X.drop(\"indicative_price\", axis=1)\n",
    "y = data[\"price\"]\n",
    "\n",
    "numerical_columns = [col for col in X.columns if col != \"listing_id\"]\n",
    "\n",
    "preprocessor = ColumnTransformer(\n",
    "transformers=[\n",
    "    (\"num\", StandardScaler(), numerical_columns),\n",
    "])\n",
    "\n",
    "X_train, X_valid, y_train, y_valid = train_test_split(X, y, test_size=0.1, random_state=0)\n",
    "\n",
    "for alpha in [0.1, 0.5, 1.0, 1.5, 2.0, 5.0]:\n",
    "    gb_reg = Pipeline(steps=[\n",
    "        (\"preprocessor\", preprocessor),\n",
    "        (\"model\", Lasso(alpha=alpha))\n",
    "    ])\n",
    "\n",
    "    gb_reg.fit(X_train, y_train)\n",
    "\n",
    "    y_pred_valid = gb_reg.predict(X_valid)\n",
    "    valid_rmse = root_mean_squared_error(y_valid, y_pred_valid)\n",
    "\n",
    "    print(f\"Lasso Regression with alpha={alpha}\")\n",
    "    print(f\" - Validation RMSE: {valid_rmse}\")\n",
    "    if alpha != 5.0:\n",
    "        print()"
   ]
  },
  {
   "cell_type": "markdown",
   "metadata": {},
   "source": [
    "## 1.3 Elastic Net"
   ]
  },
  {
   "cell_type": "code",
   "execution_count": 13,
   "metadata": {},
   "outputs": [
    {
     "name": "stdout",
     "output_type": "stream",
     "text": [
      "Elastic Net with alpha=0.1 and l1_ratio=0.9\n",
      " - Validation RMSE: 44291.586553100904\n"
     ]
    }
   ],
   "source": [
    "import pandas as pd\n",
    "from sklearn.pipeline import Pipeline\n",
    "from sklearn.linear_model import ElasticNet\n",
    "from sklearn.compose import ColumnTransformer\n",
    "from sklearn.preprocessing import StandardScaler\n",
    "from sklearn.metrics import root_mean_squared_error\n",
    "from sklearn.model_selection import train_test_split\n",
    "\n",
    "\n",
    "data = pd.read_csv(\"data/rough_processed.csv\")\n",
    "\n",
    "X = data.drop(\"price\", axis=1)\n",
    "X = X.drop(\"indicative_price\", axis=1)\n",
    "y = data[\"price\"]\n",
    "\n",
    "numerical_columns = [col for col in X.columns if col != \"listing_id\"]\n",
    "\n",
    "preprocessor = ColumnTransformer(\n",
    "transformers=[\n",
    "    (\"num\", StandardScaler(), numerical_columns),\n",
    "])\n",
    "\n",
    "X_train, X_valid, y_train, y_valid = train_test_split(X, y, test_size=0.1, random_state=0)\n",
    "\n",
    "gb_reg = Pipeline(steps=[\n",
    "    (\"preprocessor\", preprocessor),\n",
    "    (\"model\", ElasticNet(alpha=0.1, l1_ratio=0.9))\n",
    "])\n",
    "\n",
    "gb_reg.fit(X_train, y_train)\n",
    "\n",
    "y_pred_valid = gb_reg.predict(X_valid)\n",
    "valid_rmse = root_mean_squared_error(y_valid, y_pred_valid)\n",
    "\n",
    "print(f\"Elastic Net with alpha=0.1 and l1_ratio=0.9\")\n",
    "print(f\" - Validation RMSE: {valid_rmse}\")"
   ]
  },
  {
   "cell_type": "markdown",
   "metadata": {},
   "source": [
    "# 2. Gradient Boosting"
   ]
  },
  {
   "cell_type": "code",
   "execution_count": 14,
   "metadata": {},
   "outputs": [
    {
     "name": "stdout",
     "output_type": "stream",
     "text": [
      "Gradient Boosting Regression\n",
      " - Validation RMSE: 29170.49124293392\n"
     ]
    }
   ],
   "source": [
    "import pandas as pd\n",
    "from sklearn.pipeline import Pipeline\n",
    "from sklearn.compose import ColumnTransformer\n",
    "from sklearn.preprocessing import StandardScaler\n",
    "from sklearn.metrics import root_mean_squared_error\n",
    "from sklearn.model_selection import train_test_split\n",
    "from sklearn.ensemble import GradientBoostingRegressor\n",
    "\n",
    "\n",
    "data = pd.read_csv(\"data/rough_processed.csv\")\n",
    "\n",
    "X = data.drop(\"price\", axis=1)\n",
    "X = X.drop(\"indicative_price\", axis=1)\n",
    "y = data[\"price\"]\n",
    "\n",
    "numerical_columns = [col for col in X.columns if col != \"listing_id\"]\n",
    "\n",
    "preprocessor = ColumnTransformer(\n",
    "transformers=[\n",
    "    (\"num\", StandardScaler(), numerical_columns),\n",
    "])\n",
    "\n",
    "X_train, X_valid, y_train, y_valid = train_test_split(X, y, test_size=0.2, random_state=0)\n",
    "\n",
    "gb_reg = Pipeline(steps=[\n",
    "    (\"preprocessor\", preprocessor),\n",
    "    (\"model\", GradientBoostingRegressor())\n",
    "])\n",
    "\n",
    "gb_reg.fit(X_train, y_train)\n",
    "\n",
    "y_pred_valid = gb_reg.predict(X_valid)\n",
    "valid_rmse = root_mean_squared_error(y_valid, y_pred_valid)\n",
    "\n",
    "print(f\"Gradient Boosting Regression\")\n",
    "print(f\" - Validation RMSE: {valid_rmse}\")"
   ]
  },
  {
   "cell_type": "markdown",
   "metadata": {},
   "source": [
    "# 3. Deep Learning Method"
   ]
  },
  {
   "cell_type": "code",
   "execution_count": null,
   "metadata": {},
   "outputs": [],
   "source": []
  }
 ],
 "metadata": {
  "kernelspec": {
   "display_name": "cs5228",
   "language": "python",
   "name": "python3"
  },
  "language_info": {
   "codemirror_mode": {
    "name": "ipython",
    "version": 3
   },
   "file_extension": ".py",
   "mimetype": "text/x-python",
   "name": "python",
   "nbconvert_exporter": "python",
   "pygments_lexer": "ipython3",
   "version": "3.12.5"
  }
 },
 "nbformat": 4,
 "nbformat_minor": 2
}
