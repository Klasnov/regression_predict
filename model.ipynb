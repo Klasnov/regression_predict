{
 "cells": [
  {
   "cell_type": "markdown",
   "metadata": {},
   "source": [
    "# 1. Linear Regression\n",
    "\n",
    "## 1.1 Ridge Regression"
   ]
  },
  {
   "cell_type": "code",
   "execution_count": 8,
   "metadata": {},
   "outputs": [
    {
     "name": "stdout",
     "output_type": "stream",
     "text": [
      "Ridge Regression with alpha=0.1\n",
      " - Validation RMSE: 40728.987116248856\n",
      " - Test RMSE: 45373.149174522216\n",
      "\n",
      "Ridge Regression with alpha=0.5\n",
      " - Validation RMSE: 40726.45094978945\n",
      " - Test RMSE: 45372.3655707262\n",
      "\n",
      "Ridge Regression with alpha=1.0\n",
      " - Validation RMSE: 40723.29181818994\n",
      " - Test RMSE: 45371.391363391376\n",
      "\n",
      "Ridge Regression with alpha=1.5\n",
      " - Validation RMSE: 40720.14492832289\n",
      " - Test RMSE: 45370.42300670021\n",
      "\n",
      "Ridge Regression with alpha=2.0\n",
      " - Validation RMSE: 40717.010210546425\n",
      " - Test RMSE: 45369.46046305184\n",
      "\n",
      "Ridge Regression with alpha=5.0\n",
      " - Validation RMSE: 40698.453682369276\n",
      " - Test RMSE: 45363.80520752782\n",
      "\n"
     ]
    }
   ],
   "source": [
    "import pandas as pd\n",
    "from sklearn.pipeline import Pipeline\n",
    "from sklearn.linear_model import Ridge\n",
    "from sklearn.compose import ColumnTransformer\n",
    "from sklearn.metrics import root_mean_squared_error\n",
    "from sklearn.preprocessing import StandardScaler\n",
    "from sklearn.model_selection import train_test_split\n",
    "\n",
    "\n",
    "data = pd.read_csv(\"data/processed.csv\")\n",
    "\n",
    "X = data.drop(\"price\", axis=1)\n",
    "X = X.drop(\"indicative_price\", axis=1)\n",
    "y = data[\"price\"]\n",
    "\n",
    "numerical_columns = [col for col in X.columns if col != \"listing_id\"]\n",
    "\n",
    "preprocessor = ColumnTransformer(\n",
    "transformers=[\n",
    "    (\"num\", StandardScaler(), numerical_columns),\n",
    "])\n",
    "\n",
    "X_train_valid, X_test, y_train_valid, y_test = train_test_split(X, y, test_size=0.2, random_state=0)\n",
    "X_train, X_valid, y_train, y_valid = train_test_split(X_train_valid, y_train_valid, test_size=0.125, random_state=0)\n",
    "\n",
    "for alpha in [0.1, 0.5, 1.0, 1.5, 2.0, 5.0]:\n",
    "    elastic_net = Pipeline(steps=[\n",
    "        (\"preprocessor\", preprocessor),\n",
    "        (\"model\", Ridge(alpha=alpha))\n",
    "    ])\n",
    "\n",
    "    elastic_net.fit(X_train, y_train)\n",
    "\n",
    "    y_pred_valid = elastic_net.predict(X_valid)\n",
    "    valid_rmse = root_mean_squared_error(y_valid, y_pred_valid)\n",
    "    y_pred_test = elastic_net.predict(X_test)\n",
    "    test_rmse = root_mean_squared_error(y_test, y_pred_test)\n",
    "\n",
    "    print(f\"Ridge Regression with alpha={alpha}\")\n",
    "    print(f\" - Validation RMSE: {valid_rmse}\")\n",
    "    print(f\" - Test RMSE: {test_rmse}\")\n",
    "    if alpha != 5.0:\n",
    "        print()"
   ]
  },
  {
   "cell_type": "markdown",
   "metadata": {},
   "source": [
    "## 1.2 Lasso Regression"
   ]
  },
  {
   "cell_type": "code",
   "execution_count": 11,
   "metadata": {},
   "outputs": [
    {
     "name": "stdout",
     "output_type": "stream",
     "text": [
      "Lasso Regression with alpha=0.1\n",
      " - Validation RMSE: 40729.37517324335\n",
      " - Test RMSE: 45373.25014701904\n",
      "\n",
      "Lasso Regression with alpha=0.5\n",
      " - Validation RMSE: 40728.38756387951\n",
      " - Test RMSE: 45372.86875265672\n",
      "\n",
      "Lasso Regression with alpha=1.0\n",
      " - Validation RMSE: 40727.15335036069\n",
      " - Test RMSE: 45372.392652519215\n",
      "\n",
      "Lasso Regression with alpha=1.5\n",
      " - Validation RMSE: 40725.92185230695\n",
      " - Test RMSE: 45371.918100296425\n",
      "\n",
      "Lasso Regression with alpha=2.0\n",
      " - Validation RMSE: 40724.688597107874\n",
      " - Test RMSE: 45371.4435337523\n",
      "\n",
      "Lasso Regression with alpha=5.0\n",
      " - Validation RMSE: 40717.335681935554\n",
      " - Test RMSE: 45368.624994196856\n",
      "\n"
     ]
    }
   ],
   "source": [
    "import pandas as pd\n",
    "from sklearn.pipeline import Pipeline\n",
    "from sklearn.linear_model import Lasso\n",
    "from sklearn.compose import ColumnTransformer\n",
    "from sklearn.metrics import root_mean_squared_error\n",
    "from sklearn.preprocessing import StandardScaler\n",
    "from sklearn.model_selection import train_test_split\n",
    "\n",
    "\n",
    "data = pd.read_csv(\"data/processed.csv\")\n",
    "\n",
    "X = data.drop(\"price\", axis=1)\n",
    "X = X.drop(\"indicative_price\", axis=1)\n",
    "y = data[\"price\"]\n",
    "\n",
    "numerical_columns = [col for col in X.columns if col != \"listing_id\"]\n",
    "\n",
    "preprocessor = ColumnTransformer(\n",
    "transformers=[\n",
    "    (\"num\", StandardScaler(), numerical_columns),\n",
    "])\n",
    "\n",
    "X_train_valid, X_test, y_train_valid, y_test = train_test_split(X, y, test_size=0.2, random_state=0)\n",
    "X_train, X_valid, y_train, y_valid = train_test_split(X_train_valid, y_train_valid, test_size=0.125, random_state=0)\n",
    "\n",
    "for alpha in [0.1, 0.5, 1.0, 1.5, 2.0, 5.0]:\n",
    "    elastic_net = Pipeline(steps=[\n",
    "        (\"preprocessor\", preprocessor),\n",
    "        (\"model\", Lasso(alpha=alpha))\n",
    "    ])\n",
    "\n",
    "    elastic_net.fit(X_train, y_train)\n",
    "\n",
    "    y_pred_valid = elastic_net.predict(X_valid)\n",
    "    valid_rmse = root_mean_squared_error(y_valid, y_pred_valid)\n",
    "    y_pred_test = elastic_net.predict(X_test)\n",
    "    test_rmse = root_mean_squared_error(y_test, y_pred_test)\n",
    "\n",
    "    print(f\"Lasso Regression with alpha={alpha}\")\n",
    "    print(f\" - Validation RMSE: {valid_rmse}\")\n",
    "    print(f\" - Test RMSE: {test_rmse}\")\n",
    "    if alpha != 5.0:\n",
    "        print()"
   ]
  },
  {
   "cell_type": "markdown",
   "metadata": {},
   "source": [
    "## 1.3 Elastic Net"
   ]
  },
  {
   "cell_type": "code",
   "execution_count": 33,
   "metadata": {},
   "outputs": [
    {
     "name": "stdout",
     "output_type": "stream",
     "text": [
      "Elastic Net with alpha=0.1 and l1_ratio=0.9\n",
      " - Validation RMSE: 40070.655814503596\n",
      " - Test RMSE: 45234.003265580985\n",
      "\n"
     ]
    }
   ],
   "source": [
    "import pandas as pd\n",
    "from sklearn.pipeline import Pipeline\n",
    "from sklearn.linear_model import ElasticNet\n",
    "from sklearn.compose import ColumnTransformer\n",
    "from sklearn.metrics import root_mean_squared_error\n",
    "from sklearn.preprocessing import StandardScaler\n",
    "from sklearn.model_selection import train_test_split\n",
    "\n",
    "\n",
    "data = pd.read_csv(\"data/processed.csv\")\n",
    "\n",
    "X = data.drop(\"price\", axis=1)\n",
    "X = X.drop(\"indicative_price\", axis=1)\n",
    "y = data[\"price\"]\n",
    "\n",
    "numerical_columns = [col for col in X.columns if col != \"listing_id\"]\n",
    "\n",
    "preprocessor = ColumnTransformer(\n",
    "transformers=[\n",
    "    (\"num\", StandardScaler(), numerical_columns),\n",
    "])\n",
    "\n",
    "X_train_valid, X_test, y_train_valid, y_test = train_test_split(X, y, test_size=0.2, random_state=0)\n",
    "X_train, X_valid, y_train, y_valid = train_test_split(X_train_valid, y_train_valid, test_size=0.125, random_state=0)\n",
    "\n",
    "elastic_net = Pipeline(steps=[\n",
    "    (\"preprocessor\", preprocessor),\n",
    "    (\"model\", ElasticNet(alpha=0.1, l1_ratio=0.9))\n",
    "])\n",
    "\n",
    "elastic_net.fit(X_train, y_train)\n",
    "\n",
    "y_pred_valid = elastic_net.predict(X_valid)\n",
    "valid_rmse = root_mean_squared_error(y_valid, y_pred_valid)\n",
    "y_pred_test = elastic_net.predict(X_test)\n",
    "test_rmse = root_mean_squared_error(y_test, y_pred_test)\n",
    "\n",
    "print(f\"Elastic Net with alpha=0.1 and l1_ratio=0.9\")\n",
    "print(f\" - Validation RMSE: {valid_rmse}\")\n",
    "print(f\" - Test RMSE: {test_rmse}\")\n",
    "print()"
   ]
  },
  {
   "cell_type": "markdown",
   "metadata": {},
   "source": [
    "# 2. Gradient Boosting"
   ]
  },
  {
   "cell_type": "code",
   "execution_count": null,
   "metadata": {},
   "outputs": [],
   "source": []
  },
  {
   "cell_type": "markdown",
   "metadata": {},
   "source": [
    "# 3. Deep Learning Method"
   ]
  },
  {
   "cell_type": "code",
   "execution_count": null,
   "metadata": {},
   "outputs": [],
   "source": []
  }
 ],
 "metadata": {
  "kernelspec": {
   "display_name": "cs5228",
   "language": "python",
   "name": "python3"
  },
  "language_info": {
   "codemirror_mode": {
    "name": "ipython",
    "version": 3
   },
   "file_extension": ".py",
   "mimetype": "text/x-python",
   "name": "python",
   "nbconvert_exporter": "python",
   "pygments_lexer": "ipython3",
   "version": "3.12.5"
  }
 },
 "nbformat": 4,
 "nbformat_minor": 2
}
